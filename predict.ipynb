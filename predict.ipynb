{
 "cells": [
  {
   "cell_type": "code",
   "execution_count": 1,
   "metadata": {},
   "outputs": [
    {
     "name": "stdout",
     "output_type": "stream",
     "text": [
      "False\n"
     ]
    }
   ],
   "source": [
    "from datasets import load_dataset, load_metric\n",
    "from transformers import AutoTokenizer\n",
    "import transformers\n",
    "import un_ner_tokens as get_tokens\n",
    "from transformers import AutoModelForTokenClassification, TrainingArguments, Trainer\n",
    "from transformers import DataCollatorForTokenClassification\n",
    "import numpy as np\n",
    "\n",
    "import torch\n",
    "print(torch.cuda.is_available())\n",
    "\n",
    "label_list = [\n",
    "    'NA',       # not highlighted by labels\n",
    "    'thing',  # noun\n",
    "    'description',  # adjective\n",
    "    'action'   # verb\n",
    "]\n",
    "\n",
    "tokenizer = AutoTokenizer.from_pretrained('./reddit-ner.model/')"
   ]
  },
  {
   "cell_type": "code",
   "execution_count": 2,
   "metadata": {},
   "outputs": [
    {
     "data": {
      "text/plain": [
       "PreTrainedTokenizerFast(name_or_path='./un-ner.model/', vocab_size=30522, model_max_len=512, is_fast=True, padding_side='right', special_tokens={'unk_token': '[UNK]', 'sep_token': '[SEP]', 'pad_token': '[PAD]', 'cls_token': '[CLS]', 'mask_token': '[MASK]'})"
      ]
     },
     "execution_count": 2,
     "metadata": {},
     "output_type": "execute_result"
    }
   ],
   "source": [
    "tokenizer"
   ]
  },
  {
   "cell_type": "code",
   "execution_count": 3,
   "metadata": {},
   "outputs": [
    {
     "data": {
      "text/plain": [
       "torch.Size([1, 379])"
      ]
     },
     "execution_count": 3,
     "metadata": {},
     "output_type": "execute_result"
    }
   ],
   "source": [
    "tokens = tokenizer('''Members will recall that, at its 2nd plenary meeting, on 20 September 2019, the assembly decided to include this item in the agenda of the seventy-fourth session. In connection with this item, I have received a letter dated 27 august 2020 from the deputy permanent representative of Brazil to the United Nations requesting that the item be included in the draft agenda of the seventy-fifth session of the assembly. I give the floor to the representative of Armenia. Members will recall that at its 2nd plenary meeting, on 20 September 2019, the assembly decided to include this item in the agenda of the seventy-fourth session. In connection with the item, a letter dated 31 august 2020 from the permanent representative of the Russian federation to the United Nations addressed to the president of the assembly has been issued as document a/74/1002, in which it is requested that the item be included in the agenda of the seventy-fifth session of the assembly. Members will recall that at its 2nd plenary meeting, on 20 September 2019, the assembly decided to include this item in the agenda of the seventy - fourth session. My delegation would like to disassociate itself from the decision to include agenda item 37 on the draft agenda of the seventy-fifth session of the general assembly. The assembly has before it five draft resolutions recommended by the third committee in paragraph 47 of its report. Before proceeding further, I should like to inform members that action on draft resolution iv, entitled situation of human rights of Rohingya Muslims and other minorities in Myanmar is postponed to a later date to allow time for the review of its programme budget implications by the fifth committee. The assembly will take action on draft resolution iv as soon as the report of the fifth committee on the programme budget implications is available. I now give the floor to delegations wishing to deliver explanations of vote or position before voting or adoption.''')\n",
    "torch.tensor(tokens['input_ids']).unsqueeze(0).size()"
   ]
  },
  {
   "cell_type": "code",
   "execution_count": 4,
   "metadata": {},
   "outputs": [],
   "source": [
    "model = AutoModelForTokenClassification.from_pretrained('./un-ner.model/', num_labels=len(label_list))"
   ]
  },
  {
   "cell_type": "code",
   "execution_count": 5,
   "metadata": {},
   "outputs": [],
   "source": [
    "import torch\n",
    "preds = model.forward(input_ids=torch.tensor(tokens['input_ids']).unsqueeze(0), attention_mask=torch.tensor(tokens['attention_mask']).unsqueeze(0))"
   ]
  },
  {
   "cell_type": "code",
   "execution_count": 6,
   "metadata": {},
   "outputs": [],
   "source": [
    "preds = torch.argmax(preds.logits.squeeze(), axis=1)"
   ]
  },
  {
   "cell_type": "code",
   "execution_count": 7,
   "metadata": {},
   "outputs": [],
   "source": [
    "sentence = '''Members will recall that, at its 2nd plenary meeting, on 20 September 2019, the assembly decided to include this item in the agenda of the seventy-fourth session. In connection with this item, I have received a letter dated 27 august 2020 from the deputy permanent representative of Brazil to the United Nations requesting that the item be included in the draft agenda of the seventy-fifth session of the assembly. I give the floor to the representative of Armenia. Members will recall that at its 2nd plenary meeting, on 20 September 2019, the assembly decided to include this item in the agenda of the seventy-fourth session. In connection with the item, a letter dated 31 august 2020 from the permanent representative of the Russian federation to the United Nations addressed to the president of the assembly has been issued as document a/74/1002, in which it is requested that the item be included in the agenda of the seventy-fifth session of the assembly. Members will recall that at its 2nd plenary meeting, on 20 September 2019, the assembly decided to include this item in the agenda of the seventy - fourth session. My delegation would like to disassociate itself from the decision to include agenda item 37 on the draft agenda of the seventy-fifth session of the general assembly. The assembly has before it five draft resolutions recommended by the third committee in paragraph 47 of its report. Before proceeding further, I should like to inform members that action on draft resolution iv, entitled situation of human rights of Rohingya Muslims and other minorities in Myanmar is postponed to a later date to allow time for the review of its programme budget implications by the fifth committee. The assembly will take action on draft resolution iv as soon as the report of the fifth committee on the programme budget implications is available. I now give the floor to delegations wishing to deliver explanations of vote or position before voting or adoption.'''"
   ]
  },
  {
   "cell_type": "code",
   "execution_count": 8,
   "metadata": {},
   "outputs": [
    {
     "data": {
      "text/plain": [
       "329"
      ]
     },
     "execution_count": 8,
     "metadata": {},
     "output_type": "execute_result"
    }
   ],
   "source": [
    "len(sentence.split(' '))"
   ]
  },
  {
   "cell_type": "code",
   "execution_count": 9,
   "metadata": {},
   "outputs": [
    {
     "data": {
      "text/plain": [
       "torch.Size([379])"
      ]
     },
     "execution_count": 9,
     "metadata": {},
     "output_type": "execute_result"
    }
   ],
   "source": [
    "preds.size()"
   ]
  },
  {
   "cell_type": "code",
   "execution_count": 10,
   "metadata": {},
   "outputs": [
    {
     "data": {
      "text/plain": [
       "379"
      ]
     },
     "execution_count": 10,
     "metadata": {},
     "output_type": "execute_result"
    }
   ],
   "source": [
    "len(tokens['input_ids'])"
   ]
  },
  {
   "cell_type": "code",
   "execution_count": 11,
   "metadata": {},
   "outputs": [],
   "source": [
    "words = tokenizer.batch_decode(tokens['input_ids'])"
   ]
  },
  {
   "cell_type": "code",
   "execution_count": 12,
   "metadata": {},
   "outputs": [],
   "source": [
    "value_preds = [label_list[i] for i in preds]"
   ]
  },
  {
   "cell_type": "code",
   "execution_count": 13,
   "metadata": {},
   "outputs": [],
   "source": [
    "import pandas as pd\n",
    "pd.DataFrame({'ner': value_preds, 'words': words}).to_csv('un_ner.csv')"
   ]
  },
  {
   "cell_type": "code",
   "execution_count": null,
   "metadata": {},
   "outputs": [],
   "source": []
  }
 ],
 "metadata": {
  "interpreter": {
   "hash": "6ca6ba3500c0fe82c0cc5cd3431d1e4002fb21a5e9709af86b8de5f032b63843"
  },
  "kernelspec": {
   "display_name": "Python 3.8.5 64-bit ('proj2_part2': conda)",
   "name": "python3"
  },
  "language_info": {
   "codemirror_mode": {
    "name": "ipython",
    "version": 3
   },
   "file_extension": ".py",
   "mimetype": "text/x-python",
   "name": "python",
   "nbconvert_exporter": "python",
   "pygments_lexer": "ipython3",
   "version": "3.7.3"
  }
 },
 "nbformat": 4,
 "nbformat_minor": 4
}
