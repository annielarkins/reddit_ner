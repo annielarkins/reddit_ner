{
  "nbformat": 4,
  "nbformat_minor": 0,
  "metadata": {
    "colab": {
      "name": "pos.ipynb",
      "provenance": [],
      "collapsed_sections": []
    },
    "kernelspec": {
      "name": "python3",
      "display_name": "Python 3"
    },
    "language_info": {
      "name": "python"
    },
    "widgets": {
      "application/vnd.jupyter.widget-state+json": {
        "bd88590b38d54c9d9f57dd572ef77093": {
          "model_module": "@jupyter-widgets/controls",
          "model_name": "HBoxModel",
          "model_module_version": "1.5.0",
          "state": {
            "_view_name": "HBoxView",
            "_dom_classes": [],
            "_model_name": "HBoxModel",
            "_view_module": "@jupyter-widgets/controls",
            "_model_module_version": "1.5.0",
            "_view_count": null,
            "_view_module_version": "1.5.0",
            "box_style": "",
            "layout": "IPY_MODEL_ce0cdb634dce4408b51ebfeb152bb71a",
            "_model_module": "@jupyter-widgets/controls",
            "children": [
              "IPY_MODEL_07782c7fb88c445383ed77c5414d342b",
              "IPY_MODEL_5aaf163c709d4c6b8294523c9a4b0359",
              "IPY_MODEL_4f78bc4439204a4fa46c17083cbdc1e7"
            ]
          }
        },
        "ce0cdb634dce4408b51ebfeb152bb71a": {
          "model_module": "@jupyter-widgets/base",
          "model_name": "LayoutModel",
          "model_module_version": "1.2.0",
          "state": {
            "_view_name": "LayoutView",
            "grid_template_rows": null,
            "right": null,
            "justify_content": null,
            "_view_module": "@jupyter-widgets/base",
            "overflow": null,
            "_model_module_version": "1.2.0",
            "_view_count": null,
            "flex_flow": null,
            "width": null,
            "min_width": null,
            "border": null,
            "align_items": null,
            "bottom": null,
            "_model_module": "@jupyter-widgets/base",
            "top": null,
            "grid_column": null,
            "overflow_y": null,
            "overflow_x": null,
            "grid_auto_flow": null,
            "grid_area": null,
            "grid_template_columns": null,
            "flex": null,
            "_model_name": "LayoutModel",
            "justify_items": null,
            "grid_row": null,
            "max_height": null,
            "align_content": null,
            "visibility": null,
            "align_self": null,
            "height": null,
            "min_height": null,
            "padding": null,
            "grid_auto_rows": null,
            "grid_gap": null,
            "max_width": null,
            "order": null,
            "_view_module_version": "1.2.0",
            "grid_template_areas": null,
            "object_position": null,
            "object_fit": null,
            "grid_auto_columns": null,
            "margin": null,
            "display": null,
            "left": null
          }
        },
        "07782c7fb88c445383ed77c5414d342b": {
          "model_module": "@jupyter-widgets/controls",
          "model_name": "HTMLModel",
          "model_module_version": "1.5.0",
          "state": {
            "_view_name": "HTMLView",
            "style": "IPY_MODEL_acef4d1b977b4df0a50bf1ac7fcd2c14",
            "_dom_classes": [],
            "description": "",
            "_model_name": "HTMLModel",
            "placeholder": "​",
            "_view_module": "@jupyter-widgets/controls",
            "_model_module_version": "1.5.0",
            "value": "Downloading: 100%",
            "_view_count": null,
            "_view_module_version": "1.5.0",
            "description_tooltip": null,
            "_model_module": "@jupyter-widgets/controls",
            "layout": "IPY_MODEL_e4808fb90cc84242a7285fa2ab500896"
          }
        },
        "5aaf163c709d4c6b8294523c9a4b0359": {
          "model_module": "@jupyter-widgets/controls",
          "model_name": "FloatProgressModel",
          "model_module_version": "1.5.0",
          "state": {
            "_view_name": "ProgressView",
            "style": "IPY_MODEL_33a021fcede74ebcb07e31fd9a1df632",
            "_dom_classes": [],
            "description": "",
            "_model_name": "FloatProgressModel",
            "bar_style": "success",
            "max": 249072763,
            "_view_module": "@jupyter-widgets/controls",
            "_model_module_version": "1.5.0",
            "value": 249072763,
            "_view_count": null,
            "_view_module_version": "1.5.0",
            "orientation": "horizontal",
            "min": 0,
            "description_tooltip": null,
            "_model_module": "@jupyter-widgets/controls",
            "layout": "IPY_MODEL_704608aa9a71466e99d503676a658bd6"
          }
        },
        "4f78bc4439204a4fa46c17083cbdc1e7": {
          "model_module": "@jupyter-widgets/controls",
          "model_name": "HTMLModel",
          "model_module_version": "1.5.0",
          "state": {
            "_view_name": "HTMLView",
            "style": "IPY_MODEL_3ce13b433f6d4d399f4955a1a7c38f7e",
            "_dom_classes": [],
            "description": "",
            "_model_name": "HTMLModel",
            "placeholder": "​",
            "_view_module": "@jupyter-widgets/controls",
            "_model_module_version": "1.5.0",
            "value": " 249M/249M [00:09&lt;00:00, 39.6MB/s]",
            "_view_count": null,
            "_view_module_version": "1.5.0",
            "description_tooltip": null,
            "_model_module": "@jupyter-widgets/controls",
            "layout": "IPY_MODEL_695268358ace43768cda72bfde57b3a4"
          }
        },
        "acef4d1b977b4df0a50bf1ac7fcd2c14": {
          "model_module": "@jupyter-widgets/controls",
          "model_name": "DescriptionStyleModel",
          "model_module_version": "1.5.0",
          "state": {
            "_view_name": "StyleView",
            "_model_name": "DescriptionStyleModel",
            "description_width": "",
            "_view_module": "@jupyter-widgets/base",
            "_model_module_version": "1.5.0",
            "_view_count": null,
            "_view_module_version": "1.2.0",
            "_model_module": "@jupyter-widgets/controls"
          }
        },
        "e4808fb90cc84242a7285fa2ab500896": {
          "model_module": "@jupyter-widgets/base",
          "model_name": "LayoutModel",
          "model_module_version": "1.2.0",
          "state": {
            "_view_name": "LayoutView",
            "grid_template_rows": null,
            "right": null,
            "justify_content": null,
            "_view_module": "@jupyter-widgets/base",
            "overflow": null,
            "_model_module_version": "1.2.0",
            "_view_count": null,
            "flex_flow": null,
            "width": null,
            "min_width": null,
            "border": null,
            "align_items": null,
            "bottom": null,
            "_model_module": "@jupyter-widgets/base",
            "top": null,
            "grid_column": null,
            "overflow_y": null,
            "overflow_x": null,
            "grid_auto_flow": null,
            "grid_area": null,
            "grid_template_columns": null,
            "flex": null,
            "_model_name": "LayoutModel",
            "justify_items": null,
            "grid_row": null,
            "max_height": null,
            "align_content": null,
            "visibility": null,
            "align_self": null,
            "height": null,
            "min_height": null,
            "padding": null,
            "grid_auto_rows": null,
            "grid_gap": null,
            "max_width": null,
            "order": null,
            "_view_module_version": "1.2.0",
            "grid_template_areas": null,
            "object_position": null,
            "object_fit": null,
            "grid_auto_columns": null,
            "margin": null,
            "display": null,
            "left": null
          }
        },
        "33a021fcede74ebcb07e31fd9a1df632": {
          "model_module": "@jupyter-widgets/controls",
          "model_name": "ProgressStyleModel",
          "model_module_version": "1.5.0",
          "state": {
            "_view_name": "StyleView",
            "_model_name": "ProgressStyleModel",
            "description_width": "",
            "_view_module": "@jupyter-widgets/base",
            "_model_module_version": "1.5.0",
            "_view_count": null,
            "_view_module_version": "1.2.0",
            "bar_color": null,
            "_model_module": "@jupyter-widgets/controls"
          }
        },
        "704608aa9a71466e99d503676a658bd6": {
          "model_module": "@jupyter-widgets/base",
          "model_name": "LayoutModel",
          "model_module_version": "1.2.0",
          "state": {
            "_view_name": "LayoutView",
            "grid_template_rows": null,
            "right": null,
            "justify_content": null,
            "_view_module": "@jupyter-widgets/base",
            "overflow": null,
            "_model_module_version": "1.2.0",
            "_view_count": null,
            "flex_flow": null,
            "width": null,
            "min_width": null,
            "border": null,
            "align_items": null,
            "bottom": null,
            "_model_module": "@jupyter-widgets/base",
            "top": null,
            "grid_column": null,
            "overflow_y": null,
            "overflow_x": null,
            "grid_auto_flow": null,
            "grid_area": null,
            "grid_template_columns": null,
            "flex": null,
            "_model_name": "LayoutModel",
            "justify_items": null,
            "grid_row": null,
            "max_height": null,
            "align_content": null,
            "visibility": null,
            "align_self": null,
            "height": null,
            "min_height": null,
            "padding": null,
            "grid_auto_rows": null,
            "grid_gap": null,
            "max_width": null,
            "order": null,
            "_view_module_version": "1.2.0",
            "grid_template_areas": null,
            "object_position": null,
            "object_fit": null,
            "grid_auto_columns": null,
            "margin": null,
            "display": null,
            "left": null
          }
        },
        "3ce13b433f6d4d399f4955a1a7c38f7e": {
          "model_module": "@jupyter-widgets/controls",
          "model_name": "DescriptionStyleModel",
          "model_module_version": "1.5.0",
          "state": {
            "_view_name": "StyleView",
            "_model_name": "DescriptionStyleModel",
            "description_width": "",
            "_view_module": "@jupyter-widgets/base",
            "_model_module_version": "1.5.0",
            "_view_count": null,
            "_view_module_version": "1.2.0",
            "_model_module": "@jupyter-widgets/controls"
          }
        },
        "695268358ace43768cda72bfde57b3a4": {
          "model_module": "@jupyter-widgets/base",
          "model_name": "LayoutModel",
          "model_module_version": "1.2.0",
          "state": {
            "_view_name": "LayoutView",
            "grid_template_rows": null,
            "right": null,
            "justify_content": null,
            "_view_module": "@jupyter-widgets/base",
            "overflow": null,
            "_model_module_version": "1.2.0",
            "_view_count": null,
            "flex_flow": null,
            "width": null,
            "min_width": null,
            "border": null,
            "align_items": null,
            "bottom": null,
            "_model_module": "@jupyter-widgets/base",
            "top": null,
            "grid_column": null,
            "overflow_y": null,
            "overflow_x": null,
            "grid_auto_flow": null,
            "grid_area": null,
            "grid_template_columns": null,
            "flex": null,
            "_model_name": "LayoutModel",
            "justify_items": null,
            "grid_row": null,
            "max_height": null,
            "align_content": null,
            "visibility": null,
            "align_self": null,
            "height": null,
            "min_height": null,
            "padding": null,
            "grid_auto_rows": null,
            "grid_gap": null,
            "max_width": null,
            "order": null,
            "_view_module_version": "1.2.0",
            "grid_template_areas": null,
            "object_position": null,
            "object_fit": null,
            "grid_auto_columns": null,
            "margin": null,
            "display": null,
            "left": null
          }
        }
      }
    }
  },
  "cells": [
    {
      "cell_type": "code",
      "execution_count": null,
      "metadata": {
        "colab": {
          "base_uri": "https://localhost:8080/"
        },
        "id": "SMOM4g_gUyCf",
        "outputId": "38c9b36b-789a-4837-d506-3134458ddcbc"
      },
      "outputs": [
        {
          "output_type": "stream",
          "name": "stdout",
          "text": [
            "\u001b[K     |████████████████████████████████| 322 kB 8.7 MB/s \n",
            "\u001b[K     |████████████████████████████████| 3.5 MB 40.7 MB/s \n",
            "\u001b[K     |████████████████████████████████| 67 kB 2.7 MB/s \n",
            "\u001b[K     |████████████████████████████████| 788 kB 33.7 MB/s \n",
            "\u001b[K     |████████████████████████████████| 19.7 MB 47.3 MB/s \n",
            "\u001b[K     |████████████████████████████████| 53 kB 1.2 MB/s \n",
            "\u001b[K     |████████████████████████████████| 1.2 MB 40.1 MB/s \n",
            "\u001b[K     |████████████████████████████████| 981 kB 17.8 MB/s \n",
            "\u001b[K     |████████████████████████████████| 48 kB 4.9 MB/s \n",
            "\u001b[?25h  Installing build dependencies ... \u001b[?25l\u001b[?25hdone\n",
            "  Getting requirements to build wheel ... \u001b[?25l\u001b[?25hdone\n",
            "    Preparing wheel metadata ... \u001b[?25l\u001b[?25hdone\n",
            "\u001b[K     |████████████████████████████████| 63 kB 1.5 MB/s \n",
            "\u001b[K     |████████████████████████████████| 895 kB 47.4 MB/s \n",
            "\u001b[K     |████████████████████████████████| 6.5 MB 42.3 MB/s \n",
            "\u001b[K     |████████████████████████████████| 596 kB 45.6 MB/s \n",
            "\u001b[?25h  Building wheel for gdown (PEP 517) ... \u001b[?25l\u001b[?25hdone\n",
            "  Building wheel for mpld3 (setup.py) ... \u001b[?25l\u001b[?25hdone\n",
            "  Building wheel for overrides (setup.py) ... \u001b[?25l\u001b[?25hdone\n",
            "  Building wheel for sqlitedict (setup.py) ... \u001b[?25l\u001b[?25hdone\n",
            "  Building wheel for langdetect (setup.py) ... \u001b[?25l\u001b[?25hdone\n",
            "  Building wheel for wikipedia-api (setup.py) ... \u001b[?25l\u001b[?25hdone\n",
            "\u001b[31mERROR: pip's dependency resolver does not currently take into account all the packages that are installed. This behaviour is the source of the following dependency conflicts.\n",
            "markdown 3.3.6 requires importlib-metadata>=4.4; python_version < \"3.10\", but you have importlib-metadata 3.10.1 which is incompatible.\n",
            "google-colab 1.0.0 requires requests~=2.23.0, but you have requests 2.27.1 which is incompatible.\n",
            "datascience 0.10.6 requires folium==0.2.1, but you have folium 0.8.3 which is incompatible.\u001b[0m\n"
          ]
        }
      ],
      "source": [
        "!pip install flair -q\n",
        "\n",
        "from flair.data import Sentence\n",
        "from flair.models import SequenceTagger\n",
        "\n"
      ]
    },
    {
      "cell_type": "code",
      "source": [
        "# load tagger\n",
        "import pandas as pd\n",
        "tagger = SequenceTagger.load(\"flair/pos-english\")\n",
        "\n",
        "# make example sentence\n",
        "sentence = Sentence(\"Many algorithms have been recently developed for reducing dimensionality by projecting data onto an intrinsic non-linear manifold. Unfortunately, existing algorithms often lose significant precision in this transformation. Manifold Sculpting is a new algorithm that iteratively reduces dimensionality by simulating surface tension in local neighborhoods. We present several experiments that show Manifold Sculpting yields more accurate results than existing algorithms with both generated and natural data-sets. Manifold Sculpting is also able to benefit from both prior dimensionality reduction efforts.\")\n",
        "\n",
        "# predict NER tags\n",
        "tagger.predict(sentence)\n",
        "\n",
        "# print sentence\n",
        "print(sentence)\n",
        "\n",
        "pos_df = pd.DataFrame(columns=['word','part_speech'])\n",
        "\n"
      ],
      "metadata": {
        "id": "xYMpc2rHVnfs",
        "colab": {
          "base_uri": "https://localhost:8080/",
          "height": 103,
          "referenced_widgets": [
            "bd88590b38d54c9d9f57dd572ef77093",
            "ce0cdb634dce4408b51ebfeb152bb71a",
            "07782c7fb88c445383ed77c5414d342b",
            "5aaf163c709d4c6b8294523c9a4b0359",
            "4f78bc4439204a4fa46c17083cbdc1e7",
            "acef4d1b977b4df0a50bf1ac7fcd2c14",
            "e4808fb90cc84242a7285fa2ab500896",
            "33a021fcede74ebcb07e31fd9a1df632",
            "704608aa9a71466e99d503676a658bd6",
            "3ce13b433f6d4d399f4955a1a7c38f7e",
            "695268358ace43768cda72bfde57b3a4"
          ]
        },
        "outputId": "79168d07-6352-4453-cb04-d8c8711f7c0a"
      },
      "execution_count": null,
      "outputs": [
        {
          "output_type": "display_data",
          "data": {
            "application/vnd.jupyter.widget-view+json": {
              "model_id": "bd88590b38d54c9d9f57dd572ef77093",
              "version_minor": 0,
              "version_major": 2
            },
            "text/plain": [
              "Downloading:   0%|          | 0.00/249M [00:00<?, ?B/s]"
            ]
          },
          "metadata": {}
        },
        {
          "output_type": "stream",
          "name": "stdout",
          "text": [
            "2022-03-01 17:21:33,000 loading file /root/.flair/models/pos-english/a9a73f6cd878edce8a0fa518db76f441f1cc49c2525b2b4557af278ec2f0659e.121306ea62993d04cd1978398b68396931a39eb47754c8a06a87f325ea70ac63\n",
            "Sentence: \"Many algorithms have been recently developed for reducing dimensionality by projecting data onto an intrinsic non-linear manifold . Unfortunately , existing algorithms often lose significant precision in this transformation . Manifold Sculpting is a new algorithm that iteratively reduces dimensionality by simulating surface tension in local neighborhoods . We present several experiments that show Manifold Sculpting yields more accurate results than existing algorithms with both generated and natural data-sets . Manifold Sculpting is also able to benefit from both prior dimensionality reduction efforts .\"   [− Tokens: 84  − Token-Labels: \"Many <JJ> algorithms <NNS> have <VBP> been <VBN> recently <RB> developed <VBN> for <IN> reducing <VBG> dimensionality <NN> by <IN> projecting <VBG> data <NNS> onto <IN> an <DT> intrinsic <JJ> non-linear <JJ> manifold <NN> . <,> Unfortunately <RB> , <,> existing <VBG> algorithms <NNS> often <RB> lose <VBP> significant <JJ> precision <NN> in <IN> this <DT> transformation <NN> . <,> Manifold <NNP> Sculpting <NNP> is <VBZ> a <DT> new <JJ> algorithm <NN> that <WDT> iteratively <RB> reduces <VBZ> dimensionality <NN> by <IN> simulating <VBG> surface <NN> tension <NN> in <IN> local <JJ> neighborhoods <NNS> . <,> We <PRP> present <VBP> several <JJ> experiments <NNS> that <WDT> show <VBP> Manifold <NNP> Sculpting <NN> yields <VBZ> more <RBR> accurate <JJ> results <NNS> than <IN> existing <VBG> algorithms <NNS> with <IN> both <CC> generated <VBN> and <CC> natural <JJ> data-sets <NNS> . <.> Manifold <NNP> Sculpting <NNP> is <VBZ> also <RB> able <JJ> to <TO> benefit <VB> from <IN> both <DT> prior <JJ> dimensionality <NN> reduction <NN> efforts <NNS> . <.>\"]\n"
          ]
        }
      ]
    },
    {
      "cell_type": "code",
      "source": [
        "# https://github.com/flairNLP/flair/issues/2299\n",
        "# print predicted NER spans\n",
        "column_names = ['text', 'label']\n",
        "\n",
        "practice_sentence = \"Many algorithms have been recently developed for reducing dimensionality by projecting data onto an intrinsic non-linear manifold. Unfortunately, existing algorithms often lose significant precision in this transformation. Manifold Sculpting is a new algorithm that iteratively reduces dimensionality by simulating surface tension in local neighborhoods. We present several experiments that show Manifold Sculpting yields more accurate results than existing algorithms with both generated and natural data-sets. Manifold Sculpting is also able to benefit from both prior dimensionality reduction efforts.\"\n",
        "\n",
        "# using split()\n",
        "# to count words in string\n",
        "sentence_length = len(practice_sentence.split())\n",
        "\n",
        "print('The following NER tags are found:')\n",
        "# iterate over entities and print\n",
        "count = 0\n",
        "pos1 = []\n",
        "\n",
        "for entity in sentence.get_spans('pos'):\n",
        "\n",
        "    for token in entity:\n",
        "      # Put each piece into df\n",
        "      pos1.append([token, token.labels])\n",
        "\n",
        "      count += 1\n",
        "\n",
        "    \n",
        "pos_df = pd.DataFrame(pos1, columns=column_names)\n",
        "#pos_df['text'] = pos_df['text'].iloc[-1]\n",
        "print(pos_df)\n",
        "\n",
        "#pos_df[['token','word']] = pos_df[\"text\"].str.split(\" \", 1, expand=False)\n",
        "pos_df['text'] = pos_df['text'].astype('string')\n",
        "pos_df['text'] = pos_df['text'].str.split(' ').str[2]\n",
        "\n",
        "pos_df.to_csv('pos.csv')\n",
        "\n",
        "#### NOTE 2-15-22\n",
        "# Currently doing the pos for the punctuation, need to take it out"
      ],
      "metadata": {
        "colab": {
          "base_uri": "https://localhost:8080/"
        },
        "id": "-Yr4aAAyXGjm",
        "outputId": "438155a2-b41b-4496-affa-4f44f49b9568"
      },
      "execution_count": null,
      "outputs": [
        {
          "output_type": "stream",
          "name": "stdout",
          "text": [
            "The following NER tags are found:\n",
            "                        text           label\n",
            "0              Token: 1 Many      [JJ (1.0)]\n",
            "1        Token: 2 algorithms  [NNS (0.9997)]\n",
            "2              Token: 3 have   [VBP (0.999)]\n",
            "3              Token: 4 been     [VBN (1.0)]\n",
            "4          Token: 5 recently      [RB (1.0)]\n",
            "..                       ...             ...\n",
            "79           Token: 80 prior    [JJ (0.998)]\n",
            "80  Token: 81 dimensionality      [NN (1.0)]\n",
            "81       Token: 82 reduction      [NN (1.0)]\n",
            "82         Token: 83 efforts     [NNS (1.0)]\n",
            "83               Token: 84 .       [. (1.0)]\n",
            "\n",
            "[84 rows x 2 columns]\n"
          ]
        }
      ]
    }
  ]
}